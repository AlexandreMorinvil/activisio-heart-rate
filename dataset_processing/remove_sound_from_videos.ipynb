{
 "cells": [
  {
   "cell_type": "code",
   "execution_count": 2,
   "id": "fca0214c",
   "metadata": {},
   "outputs": [],
   "source": [
    "import ffmpeg\n",
    "import os"
   ]
  },
  {
   "cell_type": "code",
   "execution_count": 3,
   "id": "68be139a",
   "metadata": {},
   "outputs": [],
   "source": [
    "def remove_audio_from_video(input_path, output_dir=\"videos_no_audio\"):\n",
    "    \"\"\"\n",
    "    Removes the audio track from a video without re-encoding the video stream.\n",
    "\n",
    "    Args:\n",
    "        input_path (str): The full path to the input video file.\n",
    "        output_dir (str): The directory where the output video (without audio) will be saved.\n",
    "                          It will be created if it doesn't exist.\n",
    "    \"\"\"\n",
    "    if not os.path.exists(input_path):\n",
    "        print(f\"Error: Input video '{input_path}' not found.\")\n",
    "        return\n",
    "\n",
    "    os.makedirs(output_dir, exist_ok=True)\n",
    "    \n",
    "    # Construct output filename\n",
    "    base_name = os.path.basename(input_path)\n",
    "    name_without_ext, ext = os.path.splitext(base_name)\n",
    "    output_path = os.path.join(output_dir, f\"{name_without_ext}_no_audio{ext}\")\n",
    "\n",
    "    print(f\"Processing: {base_name} -> {os.path.basename(output_path)}\")\n",
    "\n",
    "    try:\n",
    "        (\n",
    "            ffmpeg\n",
    "            .input(input_path)\n",
    "            .output(output_path, vcodec='copy', an=None) # vcodec='copy' for video, an=None for no audio\n",
    "            .run(overwrite_output=True, capture_stdout=True, capture_stderr=True)\n",
    "        )\n",
    "        print(f\"Successfully removed audio from {base_name}. Saved to {output_path}\")\n",
    "    except ffmpeg.Error as e:\n",
    "        print(f\"Error removing audio from {base_name}:\")\n",
    "        print(f\"Stdout: {e.stdout.decode()}\")\n",
    "        print(f\"Stderr: {e.stderr.decode()}\")"
   ]
  },
  {
   "cell_type": "code",
   "execution_count": 4,
   "id": "d09ac5d1",
   "metadata": {},
   "outputs": [
    {
     "name": "stdout",
     "output_type": "stream",
     "text": [
      "Processing: DJI_20231103102753_0003_D.MP4 -> DJI_20231103102753_0003_D_no_audio.MP4\n",
      "Successfully removed audio from DJI_20231103102753_0003_D.MP4. Saved to rppg_dataset_videos_no_audio\\DJI_20231103102753_0003_D_no_audio.MP4\n",
      "Processing: vid.avi -> vid_no_audio.avi\n",
      "Successfully removed audio from vid.avi. Saved to rppg_dataset_videos_no_audio\\vid_no_audio.avi\n"
     ]
    }
   ],
   "source": [
    "if __name__ == \"__main__\":\n",
    "    # --- IMPORTANT: Configure your video file paths here ---\n",
    "    \n",
    "    # Option 1: Process a single video\n",
    "    # input_video_path = \"path/to/your/DJI_20231103102753_0003_D.MP4\"\n",
    "    # remove_audio_from_video(input_video_path)\n",
    "\n",
    "    # Option 2: Process all videos in a directory\n",
    "    input_video_directory = \".\" # <--- !!! CHANGE THIS !!!\n",
    "    output_videos_folder = \"rppg_dataset_videos_no_audio\" # This folder will be created\n",
    "    video_extensions = ['.mp4', '.mkv', '.mov', '.hevc', 'avi'] # Adjust as needed\n",
    "\n",
    "    if not os.path.exists(input_video_directory):\n",
    "        print(f\"Error: Input directory '{input_video_directory}' not found.\")\n",
    "        print(\"Please update 'input_video_directory' to your actual dataset path.\")\n",
    "    else:\n",
    "        for root, _, files in os.walk(input_video_directory):\n",
    "            for file in files:\n",
    "                if any(file.lower().endswith(ext) for ext in video_extensions):\n",
    "                    full_path = os.path.join(root, file)\n",
    "                    remove_audio_from_video(full_path, output_dir=output_videos_folder)"
   ]
  }
 ],
 "metadata": {
  "kernelspec": {
   "display_name": "vHRM",
   "language": "python",
   "name": "python3"
  },
  "language_info": {
   "codemirror_mode": {
    "name": "ipython",
    "version": 3
   },
   "file_extension": ".py",
   "mimetype": "text/x-python",
   "name": "python",
   "nbconvert_exporter": "python",
   "pygments_lexer": "ipython3",
   "version": "3.9.21"
  }
 },
 "nbformat": 4,
 "nbformat_minor": 5
}
